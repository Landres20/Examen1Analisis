{
  "nbformat": 4,
  "nbformat_minor": 0,
  "metadata": {
    "colab": {
      "name": "Ejercicio4.ipynb",
      "provenance": [],
      "collapsed_sections": [],
      "authorship_tag": "ABX9TyPmX/+JsRAoNDm8FddviNbD",
      "include_colab_link": true
    },
    "kernelspec": {
      "name": "python3",
      "display_name": "Python 3"
    }
  },
  "cells": [
    {
      "cell_type": "markdown",
      "metadata": {
        "id": "view-in-github",
        "colab_type": "text"
      },
      "source": [
        "<a href=\"https://colab.research.google.com/github/Landres20/Examen1Analisis/blob/main/Ejercicio4.ipynb\" target=\"_parent\"><img src=\"https://colab.research.google.com/assets/colab-badge.svg\" alt=\"Open In Colab\"/></a>"
      ]
    },
    {
      "cell_type": "markdown",
      "metadata": {
        "id": "5T79XIEf01fE"
      },
      "source": [
        "#Analisis Cualitativo AVL Insertion\n",
        "\n",
        "En terminos de eficiencia, muy pocos algoritmos son mejores que cualquiera de los algoritmos relacionados con AVL. Esto se debe gracias a la excelente estructura de dato que es AVL, pero los algoritmos son hechos con el mismo cuidado y nivel de logica que se hizo la estructura misma. La insercion AVL demuestra eficiencia de velocidad y eficiencia en su maxima expresion y debido a esto es de los mejores algoritmos y eso se demuestra en tiempos y numeros."
      ]
    }
  ]
}