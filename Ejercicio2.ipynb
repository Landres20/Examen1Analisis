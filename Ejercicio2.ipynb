{
  "nbformat": 4,
  "nbformat_minor": 0,
  "metadata": {
    "colab": {
      "name": "Ejercicio2.ipynb",
      "provenance": [],
      "collapsed_sections": [],
      "authorship_tag": "ABX9TyN+d1APMLTyM/BYe3553BeC",
      "include_colab_link": true
    },
    "kernelspec": {
      "name": "python3",
      "display_name": "Python 3"
    }
  },
  "cells": [
    {
      "cell_type": "markdown",
      "metadata": {
        "id": "view-in-github",
        "colab_type": "text"
      },
      "source": [
        "<a href=\"https://colab.research.google.com/github/Landres20/Examen1Analisis/blob/main/Ejercicio2.ipynb\" target=\"_parent\"><img src=\"https://colab.research.google.com/assets/colab-badge.svg\" alt=\"Open In Colab\"/></a>"
      ]
    },
    {
      "cell_type": "code",
      "metadata": {
        "colab": {
          "base_uri": "https://localhost:8080/",
          "height": 508
        },
        "id": "80dQ_GPWhiha",
        "outputId": "8a81c0c0-0489-40f2-8f04-25adadf86c6f"
      },
      "source": [
        "import matplotlib.pyplot as plt\n",
        "import numpy as np\n",
        "import time as t\n",
        "\n",
        "#HeapSort\n",
        "\n",
        "def heapS0rt(arr, n, i):\n",
        "    largest = i\n",
        "    l = 2 * i + 1\n",
        "    r = 2 * i +2\n",
        "\n",
        "    if l < n and arr[i] < arr[l]:\n",
        "        largest = l\n",
        "\n",
        "    if r < n and arr[largest] < arr[r]:\n",
        "      largest = r\n",
        "\n",
        "    if largest != i:\n",
        "        arr[i], arr[largest] = arr[largest], arr[i]\n",
        "\n",
        "        heapS0rt(arr, n, largest)\n",
        "\n",
        "def heapSort(arr):\n",
        "    n = len(arr)\n",
        "\n",
        "    for i in range(n // 2 - 1, -1, -1):\n",
        "      arr[i], arr[0] = arr[0], arr[i]\n",
        "      heapS0rt(arr, n, i)\n",
        "\n",
        "    for i in range(n-1, 0, -1):\n",
        "        arr[i], arr[0] = arr[0], arr[i]\n",
        "        heapS0rt(arr, i, 0)\n",
        "\n",
        "#arr=[49, 53, 1, 7, 23, 31, 77, 45, 12, 8, 96, 29]\n",
        "arr=[[3, 70, 87, 63, 89,6,7,8],[33, 52, 85, 36, 14,7,8,9,0,0],[44, 44, 11, 80, 83,890,9,6],[13, 93, 8, 17, 0,343],[13, 93, 8, 17, 0],[26, 50, 53, 36, 14]]\n",
        "n = len(arr)\n",
        "print (\"El arreglo en orden es: \")\n",
        "for i in range(n):\n",
        "      print(arr[i])\n",
        "\n",
        "times = {}\n",
        "\n",
        "def test(arr):\n",
        "  start_time = t.time()\n",
        "  heapSort(arr)\n",
        "  for i in range(len(arr)):\n",
        "    n = arr[i]\n",
        "  times[n] = t.time() - start_time\n",
        "  print(\"--- %s segundos ---\" % (times[n]))\n",
        "\n",
        "\n",
        "\n",
        "def plot(times):\n",
        "  x = sorted(times.items())\n",
        "  plt.plot(x)\n",
        "  plt.show()\n",
        "  print(times)\n",
        "\n",
        "for i in range(len(arr)):\n",
        "  test(arr[i])\n",
        "\n",
        "\n",
        "plot(times)"
      ],
      "execution_count": 11,
      "outputs": [
        {
          "output_type": "stream",
          "text": [
            "El arreglo en orden es: \n",
            "[3, 70, 87, 63, 89, 6, 7, 8]\n",
            "[33, 52, 85, 36, 14, 7, 8, 9, 0, 0]\n",
            "[44, 44, 11, 80, 83, 890, 9, 6]\n",
            "[13, 93, 8, 17, 0, 343]\n",
            "[13, 93, 8, 17, 0]\n",
            "[26, 50, 53, 36, 14]\n",
            "--- 1.6689300537109375e-05 segundos ---\n",
            "--- 2.0265579223632812e-05 segundos ---\n",
            "--- 1.811981201171875e-05 segundos ---\n",
            "--- 1.3589859008789062e-05 segundos ---\n",
            "--- 1.6689300537109375e-05 segundos ---\n",
            "--- 9.5367431640625e-06 segundos ---\n"
          ],
          "name": "stdout"
        },
        {
          "output_type": "display_data",
          "data": {
            "image/png": "[encoded data removed]",
            "text/plain": [
              "<Figure size 432x288 with 1 Axes>"
            ]
          },
          "metadata": {
            "tags": [],
            "needs_background": "light"
          }
        },
        {
          "output_type": "stream",
          "text": [
            "{89: 1.6689300537109375e-05, 85: 2.0265579223632812e-05, 890: 1.811981201171875e-05, 343: 1.3589859008789062e-05, 93: 1.6689300537109375e-05, 53: 9.5367431640625e-06}\n"
          ],
          "name": "stdout"
        }
      ]
    },
    {
      "cell_type": "markdown",
      "metadata": {
        "id": "cTqUNlFpuB4g"
      },
      "source": [
        "#Analisis Cualitativo HeapSort\n",
        "\n",
        "El heapsort es un metodo de ordenacion que se basa en comparar distintos elementos en una lista o arreglo. A diferencia de otros algoritmos, heapsort no tiene mucha diferecia entre su best case scenario y su worst case scenario, ya que heap sort tomara la misma cantidad de recursos para cualquiera de los dos. En mi opinion eso demuestra un rango bajo en terminos de eficiencia para dicho algoritmo, pero tiene algo que otros algoritmos no tienen: consistencia. Talvez como programador no es la mejor idea no estar en busca de una mejora o lo mas eficiente para encontrar o ordenar algun grupo de elementos, pero la falta de diferencia entre los casos que puede encontrar el heapsort lo hace un algoritmo confiable sin la necesidad de sacrificar algo como ser velocidad o eficiencia. Casi siempre tomara la misma cantidad de recursos al ordenar elementos ya que cada iteracion del mismo tendra que hacer movimientos, y en mi opinion, su falta de \"mejor caso\" lo hace consistente tanto en sus tiempos como ordenamiento. Es, literalmente, un algoritmo de clase media, pero ello tambien es su mejor caracteristica."
      ]
    }
  ]
}