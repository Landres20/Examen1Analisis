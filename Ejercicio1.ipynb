{
  "nbformat": 4,
  "nbformat_minor": 0,
  "metadata": {
    "colab": {
      "name": "Ejercicio1.ipynb",
      "provenance": [],
      "collapsed_sections": [],
      "authorship_tag": "ABX9TyOgK4V8Mp0qwFWRfczgXRW7",
      "include_colab_link": true
    },
    "kernelspec": {
      "name": "python3",
      "display_name": "Python 3"
    }
  },
  "cells": [
    {
      "cell_type": "markdown",
      "metadata": {
        "id": "view-in-github",
        "colab_type": "text"
      },
      "source": [
        "<a href=\"https://colab.research.google.com/github/Landres20/Examen1Analisis/blob/main/Ejercicio1.ipynb\" target=\"_parent\"><img src=\"https://colab.research.google.com/assets/colab-badge.svg\" alt=\"Open In Colab\"/></a>"
      ]
    },
    {
      "cell_type": "code",
      "metadata": {
        "colab": {
          "base_uri": "https://localhost:8080/",
          "height": 508
        },
        "id": "YMdDQUiF_PkX",
        "outputId": "e1495ef6-17f2-4508-fa94-edbc77ea5b70"
      },
      "source": [
        "import matplotlib.pyplot as plt\n",
        "import numpy as np\n",
        "import time as t\n",
        "\n",
        "#Insertion Sort\n",
        "\n",
        "def insertionSort(n):\n",
        "\n",
        "    for x in range(1, len(arr)):\n",
        "        key = arr[x]\n",
        "        j = x-1\n",
        "        while j >=0 and key < arr[j]:\n",
        "                arr[j+1] = arr[j]\n",
        "                j -= 1\n",
        "        arr[j+1] = key\n",
        "\n",
        "#arr = [[49, 53, 1, 7, 23, 31, 77, 45, 12, 8, 96, 29], [13, 22, 45, 66, 76, 82, 31]]\n",
        "arr=[[3, 70, 87, 63, 89,6,7,8],[33, 52, 85, 36, 14,7,8,9,0,0],[44, 44, 11, 80, 83,890,9,6],[13, 93, 8, 17, 0,343],[13, 93, 8, 17, 0],[26, 50, 53, 36, 14]]\n",
        "#insertionSort(arr)\n",
        "print (\"El arreglo ordenado es: \")\n",
        "for i in range(len(arr)):\n",
        "    print (arr[i])\n",
        "\n",
        "times = {}\n",
        "\n",
        "def test(arr):\n",
        "  start_time = t.time()\n",
        "  insertionSort(arr)\n",
        "  for i in range(len(arr)):\n",
        "    n = arr[i]\n",
        "  times[n] = t.time() - start_time\n",
        "  print(\"--- %s segundos ---\" % (times[n]))\n",
        "\n",
        "\n",
        "\n",
        "def plot(times):\n",
        "  x = sorted(times.items())\n",
        "  plt.plot(x)\n",
        "  plt.show()\n",
        "  print(times)\n",
        "\n",
        "for i in range(len(arr)):\n",
        "  test(arr[i])\n",
        "\n",
        "\n",
        "plot(times)"
      ],
      "execution_count": 38,
      "outputs": [
        {
          "output_type": "stream",
          "text": [
            "Sorted array is: \n",
            "[3, 70, 87, 63, 89, 6, 7, 8]\n",
            "[33, 52, 85, 36, 14, 7, 8, 9, 0, 0]\n",
            "[44, 44, 11, 80, 83, 890, 9, 6]\n",
            "[13, 93, 8, 17, 0, 343]\n",
            "[13, 93, 8, 17, 0]\n",
            "[26, 50, 53, 36, 14]\n",
            "--- 6.9141387939453125e-06 seconds ---\n",
            "--- 1.52587890625e-05 seconds ---\n",
            "--- 3.5762786865234375e-06 seconds ---\n",
            "--- 3.5762786865234375e-06 seconds ---\n",
            "--- 4.0531158447265625e-06 seconds ---\n",
            "--- 3.814697265625e-06 seconds ---\n"
          ],
          "name": "stdout"
        },
        {
          "output_type": "display_data",
          "data": {
            "image/png": "[encoded data removed]",
            "text/plain": [
              "<Figure size 432x288 with 1 Axes>"
            ]
          },
          "metadata": {
            "tags": [],
            "needs_background": "light"
          }
        },
        {
          "output_type": "stream",
          "text": [
            "{8: 6.9141387939453125e-06, 0: 4.0531158447265625e-06, 343: 3.5762786865234375e-06, 14: 3.5762786865234375e-06, 6: 3.814697265625e-06}\n"
          ],
          "name": "stdout"
        }
      ]
    },
    {
      "cell_type": "markdown",
      "metadata": {
        "id": "JBk_TvFmoyf8"
      },
      "source": [
        "#Analisis Cualitativo Insertion Sort\n",
        "\n",
        "El insertion sort, a pesar de ser uno de los algoritmos de ordenamiento mas pesados, en terminos de su analisis de complejidad, sigue siendo una de las maneras mas eficientes de ordenar una lista de elementos. A plena vista no lo miramos como un algoritmo pesado, en terminos de recursos para su ejecucion, pero usualmente es un poco pesado debido a la cantidad de acciones que este realiza. Cuando ordenamos una lista de 20, 100 o hasta 500 elementos no nos parece tan pesado ya que el algoritmo hace su trabajo relativamente rapido, pero cuando comenzamos a ver su ejecucion sobre miles o millones de elementos, su eficiencia comienza a decaer, y lo que nos parecia un algoritmo ligero llega a ser uno de clase media-baja en terminos de su rapidez. Por que decae su eficiencia? Pues cuando tenemos el peor caso posible, como ser tener la lista desordenada en una busqueda binaria, si el insertion sort debe mover cada elemento para cada una de sus iteraciones esto aumenta su tiempo de ejecucion por n, ya que teoricamente le tocaria reposicionar cada elemento con el que se encontrara, utilizando mayor tiempo y recursos."
      ]
    }
  ]
}